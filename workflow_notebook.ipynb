{
 "cells": [
  {
   "cell_type": "markdown",
   "metadata": {},
   "source": [
    "# Self-labeling of Fully Mediating Representations by Graph Alignment\n",
    "\n",
    "This notebook is made available as supporting material for the paper:\n",
    "https://openreview.net/forum?id=XEw5Onu69uu\n",
    "\n",
    "## 1. Download Indigo dataset"
   ]
  },
  {
   "cell_type": "code",
   "execution_count": 15,
   "metadata": {},
   "outputs": [],
   "source": [
    "#taken from this StackOverflow answer: https://stackoverflow.com/a/39225039\n",
    "import requests\n",
    "\n",
    "def download_file_from_google_drive(id, destination):\n",
    "    URL = \"https://docs.google.com/uc?export=download\"\n",
    "    session = requests.Session()\n",
    "    response = session.get(URL, params = { 'id' : id }, stream = True)\n",
    "    token = get_confirm_token(response)\n",
    "    if token:\n",
    "        params = { 'id' : id, 'confirm' : token }\n",
    "        response = session.get(URL, params = params, stream = True)\n",
    "    save_response_content(response, destination)    \n",
    "\n",
    "def get_confirm_token(response):\n",
    "    for key, value in response.cookies.items():\n",
    "        if key.startswith('download_warning'):\n",
    "            return value\n",
    "    return None\n",
    "\n",
    "def save_response_content(response, destination):\n",
    "    CHUNK_SIZE = 32768\n",
    "    with open(destination, \"wb\") as f:\n",
    "        for chunk in response.iter_content(CHUNK_SIZE):\n",
    "            if chunk: # filter out keep-alive new chunks\n",
    "                f.write(chunk)\n",
    "\n",
    "file_id ='16nAdDG78fnA3af7tWPhmg5MSjv1h5ZJS'\n",
    "destination = './indigo_dataset.zip'\n",
    "download_file_from_google_drive(file_id, destination)"
   ]
  },
  {
   "cell_type": "code",
   "execution_count": 23,
   "metadata": {},
   "outputs": [],
   "source": [
    "from zipfile import ZipFile\n",
    "import os \n",
    "with ZipFile('indigo_dataset.zip', 'r') as zipObj:\n",
    "   # Extract all the contents of zip file in current directory\n",
    "   zipObj.extractall()\n",
    "os.mkdir('dataset_indigo') "
   ]
  },
  {
   "cell_type": "markdown",
   "metadata": {},
   "source": [
    "## 2. Preprocess Indigo dataset to correct format for ChemGrapher (1000x1000)"
   ]
  },
  {
   "cell_type": "code",
   "execution_count": 24,
   "metadata": {},
   "outputs": [],
   "source": [
    "!python preprocess/preprocess_indigo_dataset.py --dataset_folder indigo_validation_set_examples/images --output_folder dataset_indigo --num_images 100"
   ]
  },
  {
   "cell_type": "markdown",
   "metadata": {},
   "source": [
    "## 3. Try predicting SMILES given one image from Indigo dataset using a pretrained ChemGrapher model"
   ]
  },
  {
   "cell_type": "code",
   "execution_count": 27,
   "metadata": {},
   "outputs": [
    {
     "data": {
      "image/png": "[encoded data removed]",
      "text/plain": [
       "<IPython.core.display.Image object>"
      ]
     },
     "execution_count": 27,
     "metadata": {},
     "output_type": "execute_result"
    }
   ],
   "source": [
    "#Let us first have a look at the input image\n",
    "#Feel free to change the image filename to test with other images\n",
    "from IPython.display import Image\n",
    "Image(filename='dataset_indigo/2.png') "
   ]
  },
  {
   "cell_type": "code",
   "execution_count": 29,
   "metadata": {},
   "outputs": [
    {
     "name": "stdout",
     "output_type": "stream",
     "text": [
      "Using segmentation model pretrained_models/segmentation/pretrained_segmentation.SAV\n",
      "Using Bond Classification model pretrained_models/bond_clas/pretrained_clas_bond.SAV\n",
      "Using Atom Classification model pretrained_models/atom_clas/pretrained_clas_atom.SAV\n",
      "Using Charge Classification model pretrained_models/charge_clas/pretrained_clas_charge.SAV\n",
      "(PREPROCESSED) SMILES FROM dataset_indigo/2.png: COOC1=CC=C(OF)C=C1CN=C(O)C[SH]1N=CC2=C([SH]3CCOCC3)N=CN=C21\n",
      "(FILTERED) SMILES FROM dataset_indigo/2.png: COOc1ccc(OF)cc1C/N=C(\\O)C[SH]1N=Cc2c([SH]3CCOCC3)ncnc21\n"
     ]
    }
   ],
   "source": [
    "!python run_scripts/predict_smiles.py --inputfile dataset_indigo/2.png --segnetwork pretrained_models/segmentation/pretrained_segmentation.SAV --clas_bond_network pretrained_models/bond_clas/pretrained_clas_bond.SAV --clas_atom_network pretrained_models/atom_clas/pretrained_clas_atom.SAV --clas_charge_network pretrained_models/charge_clas/pretrained_clas_charge.SAV"
   ]
  },
  {
   "cell_type": "code",
   "execution_count": null,
   "metadata": {},
   "outputs": [],
   "source": []
  }
 ],
 "metadata": {
  "kernelspec": {
   "display_name": "Python 3",
   "language": "python",
   "name": "python3"
  },
  "language_info": {
   "codemirror_mode": {
    "name": "ipython",
    "version": 3
   },
   "file_extension": ".py",
   "mimetype": "text/x-python",
   "name": "python",
   "nbconvert_exporter": "python",
   "pygments_lexer": "ipython3",
   "version": "3.7.9"
  }
 },
 "nbformat": 4,
 "nbformat_minor": 4
}
